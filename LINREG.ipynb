{
 "nbformat": 4,
 "nbformat_minor": 2,
 "metadata": {
  "language_info": {
   "name": "python",
   "codemirror_mode": {
    "name": "ipython",
    "version": 3
   },
   "version": "3.6.9-final"
  },
  "orig_nbformat": 2,
  "file_extension": ".py",
  "mimetype": "text/x-python",
  "name": "python",
  "npconvert_exporter": "python",
  "pygments_lexer": "ipython3",
  "version": 3,
  "kernelspec": {
   "name": "python36964bitd471ecfb430a4a89adc635cfec66d499",
   "display_name": "Python 3.6.9 64-bit"
  }
 },
 "cells": [
  {
   "cell_type": "markdown",
   "metadata": {},
   "source": [
    "# Linear Regression Implemented Example\n",
    "## Here We are Implementing Linear Regression on the dataset of insurance pridecting the cost of the insurance\n",
    "### Importing all the important libraries"
   ]
  },
  {
   "cell_type": "code",
   "execution_count": 2,
   "metadata": {},
   "outputs": [],
   "source": [
    "import numpy as np\n",
    "import matplotlib.pyplot as plt\n",
    "import pandas as pd\n",
    "import random\n",
    "alpha = 0.1"
   ]
  },
  {
   "cell_type": "code",
   "execution_count": 3,
   "metadata": {},
   "outputs": [],
   "source": [
    "def calculateCost(X,Y,theta):\n",
    "    (m,n) = X.shape\n",
    "    H = X.dot(theta)\n",
    "    J = sum((H-Y)**2/2/m)\n",
    "    return J"
   ]
  },
  {
   "cell_type": "code",
   "execution_count": 4,
   "metadata": {},
   "outputs": [],
   "source": [
    "data = pd.read_csv('/home/shivanshu/Desktop/ML_implementation/insurance.csv')\n",
    "data = data.replace('female',1)\n",
    "data = data.replace('male',0)\n",
    "data = data.replace('yes',1)\n",
    "data = data.replace('no',0)\n",
    "data = data.drop(\"region\",axis=1)\n",
    "(m,n) = data.shape\n",
    "test = data[int(m*0.8):m].to_numpy()\n",
    "train = data[:int(m*0.8)].to_numpy()"
   ]
  },
  {
   "cell_type": "code",
   "execution_count": 5,
   "metadata": {},
   "outputs": [],
   "source": [
    "# train = np.hstack((train,train**2))\n",
    "Y = train[:,-1:]\n",
    "X = train[:,:-1]\n",
    "X = np.hstack((X,X**2))\n",
    "mean = X.mean(axis=0)\n",
    "var = X.var(axis=0)\n",
    "X = (X-mean)/var\n",
    "(m,n) = X.shape\n",
    "temp = np.ones(m)\n",
    "temp = temp.reshape(m,1)\n",
    "X = np.append(temp,X,axis=1)\n",
    "Ymean = Y.mean(axis=0)\n",
    "Yvar = Y.var(axis=0)\n",
    "Y = (Y-Ymean)/Yvar\n",
    "\n",
    "Ytest = test[:,-1:]\n",
    "Xtest = test[:,:-1]\n",
    "Xtest = np.hstack((Xtest,Xtest**2))\n",
    "Xtest = (Xtest-mean)/var\n",
    "(m,n) = Xtest.shape\n",
    "temp = np.ones(m)\n",
    "temp = temp.reshape(m,1)\n",
    "Xtest = np.append(temp,Xtest,axis=1)\n",
    "Ytest = (Ytest-Ymean)/Yvar"
   ]
  },
  {
   "cell_type": "code",
   "execution_count": 6,
   "metadata": {},
   "outputs": [],
   "source": [
    "theta = np.random.randn(n+1,1)"
   ]
  },
  {
   "cell_type": "code",
   "execution_count": 7,
   "metadata": {},
   "outputs": [
    {
     "output_type": "stream",
     "name": "stdout",
     "text": "[[-9.40115582e-20]\n [-9.23491145e-05]\n [ 1.96042731e-07]\n [ 1.93450901e-04]\n [ 1.30838297e-05]\n [ 1.31458310e-05]\n [ 3.64584658e-02]\n [ 1.96034897e-07]\n [-7.17133638e-03]\n [-2.71626325e-05]\n [ 1.31458364e-05]]\n"
    },
    {
     "output_type": "execute_result",
     "data": {
      "text/plain": "array([8.60408339e-10])"
     },
     "metadata": {},
     "execution_count": 7
    }
   ],
   "source": [
    "thetaN = np.linalg.pinv((np.transpose(X))@X)@(np.transpose(X))@Y\n",
    "print(thetaN)\n",
    "calculateCost(X,Y,thetaN)"
   ]
  },
  {
   "cell_type": "code",
   "execution_count": 8,
   "metadata": {
    "tags": [
     "outputPrepend",
     "outputPrepend",
     "outputPrepend",
     "outputPrepend",
     "outputPrepend",
     "outputPrepend",
     "outputPrepend",
     "outputPrepend",
     "outputPrepend",
     "outputPrepend",
     "outputPrepend",
     "outputPrepend",
     "outputPrepend",
     "outputPrepend",
     "outputPrepend",
     "outputPrepend",
     "outputPrepend",
     "outputPrepend",
     "outputPrepend",
     "outputPrepend",
     "outputPrepend",
     "outputPrepend",
     "outputPrepend",
     "outputPrepend",
     "outputPrepend",
     "outputPrepend",
     "outputPrepend",
     "outputPrepend",
     "outputPrepend",
     "outputPrepend",
     "outputPrepend",
     "outputPrepend",
     "outputPrepend",
     "outputPrepend",
     "outputPrepend",
     "outputPrepend",
     "outputPrepend",
     "outputPrepend",
     "outputPrepend",
     "outputPrepend",
     "outputPrepend",
     "outputPrepend",
     "outputPrepend",
     "outputPrepend",
     "outputPrepend",
     "outputPrepend",
     "outputPrepend",
     "outputPrepend",
     "outputPrepend",
     "outputPrepend",
     "outputPrepend",
     "outputPrepend",
     "outputPrepend",
     "outputPrepend",
     "outputPrepend",
     "outputPrepend"
    ]
   },
   "outputs": [],
   "source": [
    "# #Uncomment to run Gradient descent\n",
    "# cost = calculateCost(X,Y,theta)\n",
    "# costs =[cost]\n",
    "# for i in range(15000):\n",
    "#     (m,n) = X.shape\n",
    "#     update = ((np.transpose(X@theta-Y))@X).reshape(n,1)*alpha/m\n",
    "#     theta = theta - update\n",
    "#     cost = calculateCost(X,Y,theta)\n",
    "#     costs.append(cost)\n",
    "#     print(cost)\n",
    "#     print(theta)\n",
    "#     if i>2 and costs[-2]<cost:\n",
    "#         print(\"DIVERGING\")\n",
    "#         break\n",
    "\n",
    "# plt.plot(costs)\n",
    "# plt.ylabel('cost')\n",
    "# plt.xlabel('iteration')\n",
    "# plt.show()"
   ]
  },
  {
   "cell_type": "code",
   "execution_count": 9,
   "metadata": {},
   "outputs": [
    {
     "output_type": "stream",
     "name": "stdout",
     "text": "[8.64655949e-10]\n"
    }
   ],
   "source": [
    "Htest = Xtest.dot(thetaN)\n",
    "err = sum((Htest-Ytest)**2)/2/m\n",
    "print(err) #test error"
   ]
  },
  {
   "cell_type": "code",
   "execution_count": 31,
   "metadata": {},
   "outputs": [],
   "source": [
    "def predict(A,theta):\n",
    "    # print(A)\n",
    "    # A = (A-mean)/var\n",
    "    # print(A.shape)\n",
    "    return (np.transpose(A))@theta"
   ]
  },
  {
   "cell_type": "code",
   "execution_count": 36,
   "metadata": {},
   "outputs": [
    {
     "output_type": "execute_result",
     "data": {
      "text/plain": "array([[35813.304303]])"
     },
     "metadata": {},
     "execution_count": 36
    }
   ],
   "source": [
    "age,sex,bmi,children,smoker = 42,1,40.37,2,1\n",
    "listp = [age,sex,bmi,children,smoker,age**2,sex**2,bmi**2,children**2,smoker**2]\n",
    "listp = (listp - mean)/var\n",
    "A = np.array(listp)\n",
    "lis = [1]\n",
    "b = np.array(lis)\n",
    "b = b.reshape(1,1)\n",
    "A = A.reshape(10,1)\n",
    "# print(b.shape,A.shape)\n",
    "A = np.append(b,A,axis=0)\n",
    "predict(A,thetaN)*Yvar + Ymean"
   ]
  },
  {
   "cell_type": "code",
   "execution_count": null,
   "metadata": {},
   "outputs": [],
   "source": []
  }
 ]
}